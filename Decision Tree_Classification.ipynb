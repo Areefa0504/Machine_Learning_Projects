{
 "cells": [
  {
   "cell_type": "code",
   "execution_count": 1,
   "id": "c2b93030",
   "metadata": {},
   "outputs": [],
   "source": [
    "import numpy as np\n",
    "import pandas as pd\n",
    "from sklearn.model_selection import train_test_split\n",
    "from sklearn import metrics, tree\n",
    "from sklearn.tree import DecisionTreeClassifier"
   ]
  },
  {
   "cell_type": "code",
   "execution_count": 2,
   "id": "15c1d117",
   "metadata": {},
   "outputs": [
    {
     "name": "stdout",
     "output_type": "stream",
     "text": [
      "     outlook temperature humidity  windy play\n",
      "0      sunny         hot     high  False   no\n",
      "1      sunny         hot     high   True   no\n",
      "2   overcast         hot     high  False  yes\n",
      "3      rainy        mild     high  False  yes\n",
      "4      rainy        cool   normal  False  yes\n",
      "5      rainy        cool   normal   True   no\n",
      "6   overcast        cool   normal   True  yes\n",
      "7      sunny        mild     high  False   no\n",
      "8      sunny        cool   normal  False  yes\n",
      "9      rainy        mild   normal  False  yes\n",
      "10     sunny        mild   normal   True  yes\n",
      "11  overcast        mild     high   True  yes\n",
      "12  overcast         hot   normal  False  yes\n",
      "13     rainy        mild     high   True   no\n"
     ]
    }
   ],
   "source": [
    "dt = pd.read_csv('Data/weather.csv')\n",
    "print(dt)"
   ]
  },
  {
   "cell_type": "code",
   "execution_count": 3,
   "id": "88d34993",
   "metadata": {},
   "outputs": [],
   "source": [
    "# Convert the values to 0's and 1's \n",
    "dt['play'],_= pd.factorize(dt['play'])\n",
    "dt['outlook'],_= pd.factorize(dt['outlook'])\n",
    "dt['temperature'],_= pd.factorize(dt['temperature'])\n",
    "dt['humidity'],_=pd.factorize(dt['humidity'])\n",
    "dt['windy']=pd.factorize(dt['windy'])[0]\n",
    "#dt['windy'],_=pd.factorize(dt['windy'])"
   ]
  },
  {
   "cell_type": "code",
   "execution_count": 4,
   "id": "0e7ea042",
   "metadata": {},
   "outputs": [
    {
     "name": "stdout",
     "output_type": "stream",
     "text": [
      "    outlook  temperature  humidity  windy\n",
      "0         0            0         0      0\n",
      "1         0            0         0      1\n",
      "2         1            0         0      0\n",
      "3         2            1         0      0\n",
      "4         2            2         1      0\n",
      "5         2            2         1      1\n",
      "6         1            2         1      1\n",
      "7         0            1         0      0\n",
      "8         0            2         1      0\n",
      "9         2            1         1      0\n",
      "10        0            1         1      1\n",
      "11        1            1         0      1\n",
      "12        1            0         1      0\n",
      "13        2            1         0      1\n"
     ]
    }
   ],
   "source": [
    "X = dt.iloc[:,:-1] \n",
    "y = dt.iloc[:,-1] # Only last col\n",
    "print(X)"
   ]
  },
  {
   "cell_type": "code",
   "execution_count": 5,
   "id": "aee95545",
   "metadata": {},
   "outputs": [],
   "source": [
    "# split data randomly into 80% training and 20% test\n",
    "X_train, X_test, y_train, y_test = train_test_split(X, y, test_size=0.2, random_state=0)"
   ]
  },
  {
   "cell_type": "code",
   "execution_count": 6,
   "id": "c834362b",
   "metadata": {},
   "outputs": [],
   "source": [
    "# train the decision tree\n",
    "dtree = tree.DecisionTreeClassifier(criterion = 'entropy', max_depth=2)\n",
    "#dtree = DecisionTreeClassifier(criterion = 'entropy')\n",
    "#dtree = tree.DecisionTreeClassifier(criterion = 'gini', max_depth=3)\n",
    "#dtree = DecisionTreeClassifier(criterion = 'gini')"
   ]
  },
  {
   "cell_type": "code",
   "execution_count": null,
   "id": "5b281fc0",
   "metadata": {},
   "outputs": [],
   "source": []
  }
 ],
 "metadata": {
  "kernelspec": {
   "display_name": "Python 3 (ipykernel)",
   "language": "python",
   "name": "python3"
  },
  "language_info": {
   "codemirror_mode": {
    "name": "ipython",
    "version": 3
   },
   "file_extension": ".py",
   "mimetype": "text/x-python",
   "name": "python",
   "nbconvert_exporter": "python",
   "pygments_lexer": "ipython3",
   "version": "3.9.12"
  }
 },
 "nbformat": 4,
 "nbformat_minor": 5
}
