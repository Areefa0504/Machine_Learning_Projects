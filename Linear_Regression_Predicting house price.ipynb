{
 "cells": [
  {
   "cell_type": "code",
   "execution_count": 1,
   "id": "a382b76d",
   "metadata": {},
   "outputs": [],
   "source": [
    "# Importing the libraries\n",
    "\n",
    "import numpy as np\n",
    "import matplotlib.pyplot as plt\n",
    "import pandas as pd\n"
   ]
  },
  {
   "cell_type": "code",
   "execution_count": 6,
   "id": "d047ae95",
   "metadata": {},
   "outputs": [
    {
     "name": "stdout",
     "output_type": "stream",
     "text": [
      "   distance_to_city_center  rooms   size    price\n",
      "0                      2.4    1.0  19.35  191.565\n",
      "1                      2.4    2.0  13.08  221.568\n",
      "2                      5.0    1.0  24.66  185.936\n",
      "3                      1.9    1.0  24.82  275.502\n",
      "4                      1.9    1.0  25.39  241.205\n",
      "(76, 4)\n"
     ]
    }
   ],
   "source": [
    "# Importing the dataset\n",
    "\n",
    "df=pd.read_csv(\"data/cracow_apartments.csv\")\n",
    "print(df.head())\n",
    "print(df.shape)\n",
    "\n",
    "\n"
   ]
  },
  {
   "cell_type": "code",
   "execution_count": 7,
   "id": "4830b81d",
   "metadata": {},
   "outputs": [
    {
     "name": "stdout",
     "output_type": "stream",
     "text": [
      "distance_to_city_center    0\n",
      "rooms                      0\n",
      "size                       0\n",
      "price                      0\n",
      "dtype: int64\n"
     ]
    }
   ],
   "source": [
    "print(df.isnull().sum())"
   ]
  },
  {
   "cell_type": "code",
   "execution_count": 9,
   "id": "fbf3fee7",
   "metadata": {},
   "outputs": [
    {
     "name": "stdout",
     "output_type": "stream",
     "text": [
      "[[  2.4    1.    19.35]\n",
      " [  2.4    2.    13.08]\n",
      " [  5.     1.    24.66]\n",
      " [  1.9    1.    24.82]\n",
      " [  1.9    1.    25.39]\n",
      " [  5.9    1.    25.54]\n",
      " [  3.     1.    25.62]\n",
      " [  9.     1.    26.04]\n",
      " [  8.4    1.    26.26]\n",
      " [  8.4    1.    26.26]\n",
      " [  2.5    1.    26.6 ]\n",
      " [  6.7    1.    26.87]\n",
      " [  8.5    1.    27.85]\n",
      " [  2.4    2.    27.86]\n",
      " [  3.4    1.    27.93]\n",
      " [  2.3    1.    28.32]\n",
      " [  1.4    3.    29.  ]\n",
      " [  2.     1.    29.91]\n",
      " [  1.9    2.    30.83]\n",
      " [  6.3    2.    31.68]\n",
      " [  5.9    2.    32.02]\n",
      " [  7.4    2.    32.22]\n",
      " [  2.7    2.    34.32]\n",
      " [  7.4    2.    34.32]\n",
      " [  4.     2.    34.78]\n",
      " [  7.6    2.    35.01]\n",
      " [  7.1    2.    37.11]\n",
      " [  4.9    2.    37.41]\n",
      " [  5.5    2.    38.7 ]\n",
      " [  1.5    3.    29.  ]\n",
      " [  8.7    3.    45.15]\n",
      " [  2.5    3.    48.17]\n",
      " [  9.     3.    48.52]\n",
      " [  6.4    3.    49.42]\n",
      " [  5.7    3.    49.44]\n",
      " [  3.8    3.    50.91]\n",
      " [  7.6    3.    51.9 ]\n",
      " [  4.1    3.    52.4 ]\n",
      " [  3.4    3.    52.7 ]\n",
      " [  4.7    3.    53.61]\n",
      " [  7.4    3.    53.83]\n",
      " [  7.4    3.    53.86]\n",
      " [  2.9    3.    54.18]\n",
      " [  7.7    3.    54.9 ]\n",
      " [  4.4    3.    54.92]\n",
      " [  5.3    3.    54.97]\n",
      " [  6.7    3.    55.1 ]\n",
      " [  4.4    4.    67.35]\n",
      " [  4.1    4.    67.73]\n",
      " [  9.2    4.    68.6 ]\n",
      " [  5.1    4.    70.1 ]\n",
      " [  4.     4.    70.16]\n",
      " [  6.     4.    70.81]\n",
      " [  4.4    4.    71.81]\n",
      " [  4.6    4.    72.02]\n",
      " [  1.8    4.    74.36]\n",
      " [  5.3    4.    75.59]\n",
      " [  3.3    4.    75.92]\n",
      " [  2.7    5.    83.  ]\n",
      " [  5.9    5.    85.09]\n",
      " [  8.     5.    86.86]\n",
      " [  7.6    5.    87.91]\n",
      " [  7.1    5.    96.21]\n",
      " [  3.     5.    99.  ]\n",
      " [  6.6    5.   100.88]\n",
      " [  3.5    5.   106.96]\n",
      " [  1.9    2.    30.83]\n",
      " [  6.     2.    36.95]\n",
      " [  4.4    2.    39.59]\n",
      " [  5.4    2.    40.69]\n",
      " [  6.3    2.    41.25]\n",
      " [  5.4    2.    41.31]\n",
      " [  3.     2.    41.94]\n",
      " [ 11.3    1.    34.18]\n",
      " [  4.     2.    34.3 ]\n",
      " [  6.4    2.    34.4 ]]\n",
      "Printing Y\n",
      "[191.565 221.568 185.936 275.502 241.205 193.052 231.861 151.757 172.003\n",
      " 175.952 234.08  185.967 185.025 261.884 235.8   357.511 287.1   297.605\n",
      " 292.882 234.432 232.113 209.43  272.844 223.08  290.739 224.064 241.215\n",
      " 299.28  255.42  287.    234.735 349.233 272.227 325.777 360.418 459.993\n",
      " 321.98  393.    375.852 427.023 339.129 350.9   409.836 334.89  389.932\n",
      " 417.    413.25  451.245 504.589 418.46  455.65  614.809 485.261 495.489\n",
      " 555.    714.183 521.571 529.753 680.6   680.    464.18  483.505 692.712\n",
      " 782.1   700.    808.144 292.885 229.09  285.048 287.6   284.625 325.\n",
      " 373.088 177.702 264.11  242.52 ]\n"
     ]
    }
   ],
   "source": [
    "# Defining X and Y\n",
    "X =df.iloc[:,0:3].values # All rows and 0 to 3 columns\n",
    "y =df.iloc[:,3].values # all rows and only 3rd-column\n",
    "print(X)\n",
    "print(\"Printing Y\")\n",
    "print(y)\n"
   ]
  },
  {
   "cell_type": "code",
   "execution_count": 21,
   "id": "045b9950",
   "metadata": {},
   "outputs": [
    {
     "name": "stdout",
     "output_type": "stream",
     "text": [
      "Predicted values : 0.9480633896446401\n",
      "Training data score : 0.9369931160084563\n",
      "RMSE Score : 33.43412011901929\n",
      "R2_Score : 0.9369931160084563\n"
     ]
    }
   ],
   "source": [
    "# Splitting the dataset into the Training set and Test set\n",
    "from sklearn.model_selection import train_test_split\n",
    "X_train,X_test, y_train, y_test = train_test_split(X,y,test_size=0.2, random_state=0)\n",
    "\n",
    "# Importing the model\n",
    "from sklearn.linear_model import LinearRegression\n",
    "lr=LinearRegression()\n",
    "\n",
    "#Fitting the model\n",
    "lr.fit(X_train,y_train)\n",
    "\n",
    "#Predict\n",
    "y_pred =lr.predict(X_test)\n",
    "print(\"Predicted values :\",lr.score(X_train,y_train))\n",
    "print(\"Training data score :\",lr.score(X_test,y_test))\n",
    "\n",
    "# Model Evaluation\n",
    "from sklearn import metrics\n",
    "rmse = np.sqrt(metrics.mean_squared_error(y_test,y_pred))\n",
    "R2 = metrics.r2_score(y_test,y_pred)\n",
    "print(\"RMSE Score :\",rmse)\n",
    "print(\"R2_Score :\",R2)\n",
    "\n"
   ]
  },
  {
   "cell_type": "code",
   "execution_count": 25,
   "id": "780870bc",
   "metadata": {},
   "outputs": [
    {
     "name": "stdout",
     "output_type": "stream",
     "text": [
      "predicted price :\n",
      "[284.9225274]\n",
      "predicted price for new values input by you :\n",
      "[351.08925617]\n"
     ]
    }
   ],
   "source": [
    "# Predicting by giving the own values\n",
    "print(\"predicted price :\")\n",
    "print(lr.predict([[2.5,3,32.5]]))\n",
    "\n",
    "# Try for new values\n",
    "print(\"predicted price for new values input by you :\")\n",
    "print(lr.predict([[1.5,2,36]]))"
   ]
  },
  {
   "cell_type": "code",
   "execution_count": 33,
   "id": "8bed7902",
   "metadata": {},
   "outputs": [],
   "source": [
    "# Saving a model using pickel\n",
    "\n",
    "import pickle\n",
    "with open(\"model_pickle\",\"wb\") as f:\n",
    "    pickle.dump(lr,f)"
   ]
  },
  {
   "cell_type": "code",
   "execution_count": 34,
   "id": "4ad98521",
   "metadata": {},
   "outputs": [
    {
     "data": {
      "text/plain": [
       "['model_joblib']"
      ]
     },
     "execution_count": 34,
     "metadata": {},
     "output_type": "execute_result"
    }
   ],
   "source": [
    "# Saving a model using Joblib\n",
    "\n",
    "import joblib\n",
    "joblib.dump(lr,\"model_joblib\")"
   ]
  },
  {
   "cell_type": "code",
   "execution_count": null,
   "id": "bb480703",
   "metadata": {},
   "outputs": [],
   "source": []
  }
 ],
 "metadata": {
  "kernelspec": {
   "display_name": "Python 3 (ipykernel)",
   "language": "python",
   "name": "python3"
  },
  "language_info": {
   "codemirror_mode": {
    "name": "ipython",
    "version": 3
   },
   "file_extension": ".py",
   "mimetype": "text/x-python",
   "name": "python",
   "nbconvert_exporter": "python",
   "pygments_lexer": "ipython3",
   "version": "3.9.12"
  }
 },
 "nbformat": 4,
 "nbformat_minor": 5
}
